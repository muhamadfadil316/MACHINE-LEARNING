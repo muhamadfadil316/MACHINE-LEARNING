{
 "cells": [
  {
   "cell_type": "code",
   "execution_count": 3,
   "id": "c1649c62",
   "metadata": {},
   "outputs": [
    {
     "name": "stdout",
     "output_type": "stream",
     "text": [
      "   instant      dteday  season  temp   hum  windspeed\n",
      "0        1  2011-01-01       1  0.24  0.81     0.0000\n",
      "1        2  2011-01-01       1  0.22  0.80     0.0000\n",
      "2        3  2011-01-01       1  0.22  0.80     0.0000\n",
      "3        4  2011-01-01       1  0.24  0.75     0.0000\n",
      "4        5  2011-01-01       1  0.24  0.75     0.0000\n",
      "5        6  2011-01-01       1  0.24  0.75     0.0896\n",
      "6        7  2011-01-01       1  0.22  0.80     0.0000\n",
      "7        8  2011-01-01       1  0.20  0.86     0.0000\n",
      "8        9  2011-01-01       1  0.24  0.75     0.0000\n",
      "9       10  2011-01-01       1  0.32  0.76     0.0000\n"
     ]
    }
   ],
   "source": [
    "#latihan mandiri 01\n",
    "import pandas as pd\n",
    "\n",
    "# 1. Baca file dataset hour.csv\n",
    "df = pd.read_csv('../data/dataset/hour.csv')\n",
    "\n",
    "# 2. Buat dataframe baru dengan kolom tertentu\n",
    "df1 = df[['instant', 'dteday', 'season', 'temp', 'hum', 'windspeed']]\n",
    "\n",
    "# 3. Cetak dataframe baru ke layar\n",
    "print(df1.head(10))\n",
    "\n",
    "# 4. Simpan dataframe ke file csv baru\n",
    "df1.to_csv('../data/latihan01.csv', index=False)\n"
   ]
  }
 ],
 "metadata": {
  "kernelspec": {
   "display_name": "Python 3",
   "language": "python",
   "name": "python3"
  },
  "language_info": {
   "codemirror_mode": {
    "name": "ipython",
    "version": 3
   },
   "file_extension": ".py",
   "mimetype": "text/x-python",
   "name": "python",
   "nbconvert_exporter": "python",
   "pygments_lexer": "ipython3",
   "version": "3.12.10"
  }
 },
 "nbformat": 4,
 "nbformat_minor": 5
}
